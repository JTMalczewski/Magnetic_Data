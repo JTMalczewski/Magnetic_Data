{
 "cells": [
  {
   "cell_type": "code",
   "execution_count": 1,
   "metadata": {},
   "outputs": [],
   "source": [
    "import pandas as pd\n",
    "import numpy as np\n",
    "import matplotlib as plt\n",
    "from matplotlib.path import Path"
   ]
  },
  {
   "cell_type": "markdown",
   "metadata": {},
   "source": [
    "# testing point \n",
    "\n",
    "In this script We generate points to mesure. Corners of Blonia:\n",
    "50°03'45.2\"N 19°54'09.1\"E\n",
    "50°03'37.3\"N 19°54'03.1\"E\n",
    "50°03'25.1\"N 19°54'25.9\"E\n",
    "50°03'33.2\"N 19°55'26.0\"E"
   ]
  },
  {
   "cell_type": "code",
   "execution_count": 2,
   "metadata": {},
   "outputs": [],
   "source": [
    "def to_decimal(deg,min,sec):\n",
    "    return deg + (1/60)*min + (1/3600)*sec "
   ]
  },
  {
   "cell_type": "code",
   "execution_count": 3,
   "metadata": {},
   "outputs": [],
   "source": [
    "point_1_x = to_decimal(50,3,45.2)\n",
    "point_1_y = to_decimal(19,54,9.1)\n",
    "point_2_x = to_decimal(50,3,37.3)\n",
    "point_2_y = to_decimal(19,54,3.1)\n",
    "point_3_x = to_decimal(50,3,25.1)\n",
    "point_3_y = to_decimal(19,54,25.9)\n",
    "point_4_x = to_decimal(50,3,33.2)\n",
    "point_4_y = to_decimal(19,54,26)"
   ]
  },
  {
   "cell_type": "code",
   "execution_count": 4,
   "metadata": {},
   "outputs": [],
   "source": [
    "AD = 1518.1 # m\n",
    "AB = 243.4\n",
    "BC = 604.9\n",
    "CD = 1130.7"
   ]
  },
  {
   "cell_type": "code",
   "execution_count": 5,
   "metadata": {},
   "outputs": [],
   "source": [
    "left = point_2_x\n",
    "right = point_4_x\n",
    "up = point_1_y\n",
    "down = point_3_y"
   ]
  },
  {
   "cell_type": "code",
   "execution_count": 6,
   "metadata": {},
   "outputs": [],
   "source": [
    "jump_x = (left - right)/81\n",
    "jump_y = (down - up)/30\n",
    "list_x = np.array(right)\n",
    "list_y = np.array(up)\n",
    "for i in range(1,81):\n",
    "    list_x = np.append(list_x,right + i*jump_x)\n",
    "for i in range(1,30):\n",
    "    list_y = np.append(list_y,up + i*jump_y)\n",
    "#array = list_x * list_y"
   ]
  },
  {
   "cell_type": "code",
   "execution_count": 7,
   "metadata": {},
   "outputs": [],
   "source": [
    "fin = []\n",
    "for j in range(30):\n",
    "    for i in range(81):\n",
    "        fin.append([list_x[i],list_y[j]])\n"
   ]
  },
  {
   "cell_type": "code",
   "execution_count": 8,
   "metadata": {},
   "outputs": [
    {
     "data": {
      "text/plain": [
       "2430"
      ]
     },
     "execution_count": 8,
     "metadata": {},
     "output_type": "execute_result"
    }
   ],
   "source": [
    "81*30"
   ]
  },
  {
   "cell_type": "code",
   "execution_count": 9,
   "metadata": {},
   "outputs": [],
   "source": [
    "tupVerts=[(point_1_x,point_1_y),(point_2_x,point_2_y),(point_3_x,point_3_y),(point_4_x,point_4_y)]\n",
    "\n",
    "\n",
    "p = Path(tupVerts) # make a polygon\n",
    "grid = p.contains_points(fin)\n",
    "mask = grid.reshape(30,81)"
   ]
  },
  {
   "cell_type": "code",
   "execution_count": 12,
   "metadata": {},
   "outputs": [
    {
     "ename": "RuntimeError",
     "evalue": "module compiled against API version 0xe but this version of numpy is 0xd",
     "output_type": "error",
     "traceback": [
      "\u001b[0;31m---------------------------------------------------------------------------\u001b[0m",
      "\u001b[0;31mRuntimeError\u001b[0m                              Traceback (most recent call last)",
      "\u001b[0;31mRuntimeError\u001b[0m: module compiled against API version 0xe but this version of numpy is 0xd"
     ]
    },
    {
     "name": "stderr",
     "output_type": "stream",
     "text": [
      "Could not import submodules (exact error was: numpy.core.multiarray failed to import).\n",
      "\n",
      "There are many reasons for this error the most common one is that you have\n",
      "either not built the packages or have built (using `python setup.py build`) or\n",
      "installed them (using `python setup.py install`) and then proceeded to test\n",
      "mahotas **without changing the current directory**.\n",
      "\n",
      "Try installing and then changing to another directory before importing mahotas.\n"
     ]
    }
   ],
   "source": [
    "import mahotas\n",
    "\n",
    "def render(poly):\n",
    "    \"\"\"Return polygon as grid of points inside polygon.\n",
    "\n",
    "    Input : poly (list of lists)\n",
    "    Output : output (list of lists)\n",
    "    \"\"\"\n",
    "    xs, ys = zip(*poly)\n",
    "    minx, maxx = min(xs), max(xs)\n",
    "    miny, maxy = min(ys), max(ys)\n",
    "\n",
    "    newPoly = [(int(x - minx), int(y - miny)) for (x, y) in poly]\n",
    "\n",
    "    X = maxx - minx + 1\n",
    "    Y = maxy - miny + 1\n",
    "\n",
    "    grid = np.zeros((X, Y), dtype=np.int8)\n",
    "    mahotas.polygon.fill_polygon(newPoly, grid)\n",
    "\n",
    "    return [(x + minx, y + miny) for (x, y) in zip(*np.nonzero(grid))]"
   ]
  },
  {
   "cell_type": "code",
   "execution_count": 11,
   "metadata": {},
   "outputs": [
    {
     "ename": "AttributeError",
     "evalue": "module 'matplotlib' has no attribute 'figure'",
     "output_type": "error",
     "traceback": [
      "\u001b[0;31m---------------------------------------------------------------------------\u001b[0m",
      "\u001b[0;31mAttributeError\u001b[0m                            Traceback (most recent call last)",
      "\u001b[0;32m/tmp/ipykernel_10432/2309032521.py\u001b[0m in \u001b[0;36m<module>\u001b[0;34m\u001b[0m\n\u001b[1;32m      6\u001b[0m ]\n\u001b[1;32m      7\u001b[0m \u001b[0;34m\u001b[0m\u001b[0m\n\u001b[0;32m----> 8\u001b[0;31m \u001b[0mplt\u001b[0m\u001b[0;34m.\u001b[0m\u001b[0mfigure\u001b[0m\u001b[0;34m(\u001b[0m\u001b[0;32mNone\u001b[0m\u001b[0;34m,\u001b[0m \u001b[0;34m(\u001b[0m\u001b[0;36m5\u001b[0m\u001b[0;34m,\u001b[0m \u001b[0;36m5\u001b[0m\u001b[0;34m)\u001b[0m\u001b[0;34m)\u001b[0m\u001b[0;34m\u001b[0m\u001b[0;34m\u001b[0m\u001b[0m\n\u001b[0m\u001b[1;32m      9\u001b[0m \u001b[0mx\u001b[0m\u001b[0;34m,\u001b[0m \u001b[0my\u001b[0m \u001b[0;34m=\u001b[0m \u001b[0mzip\u001b[0m\u001b[0;34m(\u001b[0m\u001b[0;34m*\u001b[0m\u001b[0mrender\u001b[0m\u001b[0;34m(\u001b[0m\u001b[0mpoly\u001b[0m\u001b[0;34m)\u001b[0m\u001b[0;34m)\u001b[0m\u001b[0;34m\u001b[0m\u001b[0;34m\u001b[0m\u001b[0m\n\u001b[1;32m     10\u001b[0m \u001b[0mplt\u001b[0m\u001b[0;34m.\u001b[0m\u001b[0mscatter\u001b[0m\u001b[0;34m(\u001b[0m\u001b[0mx\u001b[0m\u001b[0;34m,\u001b[0m \u001b[0my\u001b[0m\u001b[0;34m)\u001b[0m\u001b[0;34m\u001b[0m\u001b[0;34m\u001b[0m\u001b[0m\n",
      "\u001b[0;31mAttributeError\u001b[0m: module 'matplotlib' has no attribute 'figure'"
     ]
    }
   ],
   "source": [
    "poly = [\n",
    "    [0, 0],\n",
    "    [0, 10],\n",
    "    [10, 10],\n",
    "    [10, 0]\n",
    "]\n",
    "\n",
    "plt.figure(None, (5, 5))\n",
    "x, y = zip(*render(poly))\n",
    "plt.scatter(x, y)\n",
    "x, y = zip(*poly)\n",
    "plt.plot(x, y, c=\"r\")\n",
    "plt.show()"
   ]
  }
 ],
 "metadata": {
  "interpreter": {
   "hash": "31f2aee4e71d21fbe5cf8b01ff0e069b9275f58929596ceb00d14d90e3e16cd6"
  },
  "kernelspec": {
   "display_name": "Python 3.8.10 64-bit",
   "language": "python",
   "name": "python3"
  },
  "language_info": {
   "codemirror_mode": {
    "name": "ipython",
    "version": 3
   },
   "file_extension": ".py",
   "mimetype": "text/x-python",
   "name": "python",
   "nbconvert_exporter": "python",
   "pygments_lexer": "ipython3",
   "version": "3.8.10"
  },
  "orig_nbformat": 4
 },
 "nbformat": 4,
 "nbformat_minor": 2
}
